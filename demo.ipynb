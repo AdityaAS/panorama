{
 "cells": [
  {
   "cell_type": "code",
   "execution_count": null,
   "id": "71f769e2-9e89-43d3-a667-7a4bc338b5aa",
   "metadata": {},
   "outputs": [],
   "source": [
    "from utils import generate_w_depth, generate_wo_depth, inpaint_generated_image\n",
    "from utils import inpaint_image\n",
    "from utils import roll_and_mask, unroll\n",
    "\n",
    "import numpy as np\n",
    "from PIL import Image"
   ]
  },
  {
   "cell_type": "code",
   "execution_count": null,
   "id": "53340ec2-bf89-44fd-8768-476832d3be89",
   "metadata": {},
   "outputs": [],
   "source": [
    "import matplotlib.pyplot as plt\n",
    "%matplotlib inline"
   ]
  },
  {
   "cell_type": "markdown",
   "id": "6c218941-67ed-409d-b909-d066cd0fd426",
   "metadata": {},
   "source": [
    "## Prompts"
   ]
  },
  {
   "cell_type": "code",
   "execution_count": null,
   "id": "89d99aa3-4f53-4e16-b87a-eb4f6835519c",
   "metadata": {},
   "outputs": [],
   "source": [
    "with open('prompts.txt', 'r') as f:\n",
    "    lines = f.readlines()\n",
    "    prompts = [x.rstrip() for x in lines]\n",
    "\n",
    "for prompt in prompts:\n",
    "    print(prompt)"
   ]
  },
  {
   "cell_type": "markdown",
   "id": "7dcd17e0-e442-4ef3-9eae-9ac5c21b041c",
   "metadata": {},
   "source": [
    "### Choose a prompt"
   ]
  },
  {
   "cell_type": "code",
   "execution_count": null,
   "id": "2be1e629-6a29-4b84-ac93-08eedb13c295",
   "metadata": {},
   "outputs": [],
   "source": [
    "depth_image = Image.open('pano_depth.png')"
   ]
  },
  {
   "cell_type": "code",
   "execution_count": null,
   "id": "bb810041-dfeb-41cc-80a9-b295c6ee7235",
   "metadata": {},
   "outputs": [],
   "source": [
    "## Pre-compute all images and save"
   ]
  },
  {
   "cell_type": "code",
   "execution_count": null,
   "id": "c2381f9d-147e-47a3-8f1c-b7c95c85a9d4",
   "metadata": {},
   "outputs": [],
   "source": [
    "# for idx, prompt in enumerate(prompts):\n",
    "#     image_wo_depth = generate_wo_depth(prompt)\n",
    "#     inpaint_wo_depth = inpaint_generated_image(image_wo_depth)\n",
    "#     Image.fromarray(inpaint_wo_depth).save(f'prompt_{idx}_wo_depth.png', \"PNG\")\n",
    "    \n",
    "#     image_w_depth = generate_w_depth(prompt, depth_image)\n",
    "#     inpaint_w_depth = inpaint_generated_image(image_w_depth)\n",
    "#     Image.fromarray(inpaint_w_depth).save(f'prompt_{idx}_w_depth.png', \"PNG\")\n"
   ]
  },
  {
   "cell_type": "markdown",
   "id": "188d5072-57aa-456d-9f6c-347416d68d8e",
   "metadata": {},
   "source": [
    "### Generate Panorama (without depth)"
   ]
  },
  {
   "cell_type": "code",
   "execution_count": null,
   "id": "13831486-3f26-4380-9bd5-3173b705fc7b",
   "metadata": {},
   "outputs": [],
   "source": [
    "image_wo_depth = generate_wo_depth(prompt)\n",
    "inpaint_wo_depth = inpaint_generated_image(image_wo_depth)\n"
   ]
  },
  {
   "cell_type": "code",
   "execution_count": null,
   "id": "c4d32b7a-508e-4dd8-b8e2-d8a64ff6a2b9",
   "metadata": {},
   "outputs": [],
   "source": [
    "plt.imshow(inpaint_wo_depth)\n",
    "plt.show()"
   ]
  },
  {
   "cell_type": "markdown",
   "id": "94b13675-8f3e-42dc-ba99-9409b9376f0c",
   "metadata": {},
   "source": [
    "### Generate Panorama (with depth)"
   ]
  },
  {
   "cell_type": "code",
   "execution_count": null,
   "id": "9c271438-8914-4fb1-b9a5-5410bd066fae",
   "metadata": {},
   "outputs": [],
   "source": [
    "depth_image = Image.open('pano_depth.png')"
   ]
  },
  {
   "cell_type": "code",
   "execution_count": null,
   "id": "42dbdc28-1c9e-4614-8b08-f9e61a4e25a2",
   "metadata": {},
   "outputs": [],
   "source": [
    "image_w_depth = generate_w_depth(prompt, depth_image)\n",
    "inpaint_w_depth = inpaint_generated_image(image_w_depth)\n"
   ]
  },
  {
   "cell_type": "code",
   "execution_count": null,
   "id": "4c57ab35-b1c9-420d-abb5-af32d0ab0acc",
   "metadata": {},
   "outputs": [],
   "source": [
    "plt.imshow(inpaint_w_depth)\n",
    "plt.show()"
   ]
  },
  {
   "cell_type": "code",
   "execution_count": null,
   "id": "0f13c702-4129-4caa-aca3-be6d18e2101b",
   "metadata": {},
   "outputs": [],
   "source": []
  },
  {
   "cell_type": "code",
   "execution_count": null,
   "id": "8fcd26c9-27bb-4ca3-83b3-71f5c4106f37",
   "metadata": {},
   "outputs": [],
   "source": []
  },
  {
   "cell_type": "code",
   "execution_count": null,
   "id": "a104a9e7-e9eb-4534-ba0f-12036ba43c26",
   "metadata": {},
   "outputs": [],
   "source": []
  },
  {
   "cell_type": "code",
   "execution_count": null,
   "id": "8e2f774a-76a3-45c6-bfdb-08b2c032dae3",
   "metadata": {},
   "outputs": [],
   "source": []
  }
 ],
 "metadata": {
  "kernelspec": {
   "display_name": "avataar",
   "language": "python",
   "name": "avataar"
  },
  "language_info": {
   "codemirror_mode": {
    "name": "ipython",
    "version": 3
   },
   "file_extension": ".py",
   "mimetype": "text/x-python",
   "name": "python",
   "nbconvert_exporter": "python",
   "pygments_lexer": "ipython3",
   "version": "3.9.18"
  }
 },
 "nbformat": 4,
 "nbformat_minor": 5
}
